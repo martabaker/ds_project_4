{
 "cells": [
  {
   "cell_type": "code",
   "execution_count": null,
   "id": "a4777c7a-5ed8-4ca2-8d6a-f7f0f2735840",
   "metadata": {},
   "outputs": [],
   "source": [
    "# Import the required modules\n",
    "import pandas as pd\n",
    "pd.set_option('display.max_columns', None)\n",
    "import numpy as np\n",
    "\n",
    "# visualization\n",
    "import matplotlib.pyplot as plt\n",
    "import seaborn as sns\n",
    "import hvplot.pandas\n",
    "\n",
    "# Machine Learning\n",
    "from sklearn.model_selection import train_test_split\n",
    "from sklearn.linear_model import LogisticRegression\n",
    "from xgboost import XGBClassifier\n",
    "from lightgbm import LGBMClassifier\n",
    "from sklearn.tree import DecisionTreeClassifier\n",
    "from sklearn.ensemble import RandomForestClassifier, AdaBoostClassifier, ExtraTreesClassifier, GradientBoostingClassifier\n",
    "from sklearn.svm import SVC\n",
    "from sklearn.neighbors import KNeighborsClassifier\n",
    "from sklearn.metrics import confusion_matrix, classification_report, roc_curve, roc_auc_score, RocCurveDisplay\n",
    "from sklearn.preprocessing import StandardScaler, MinMaxScaler, LabelEncoder\n",
    "from sklearn.pipeline import Pipeline\n",
    "\n",
    "# Save off the model/scaler\n",
    "import pickle\n",
    "\n",
    "# suppress warnings\n",
    "import warnings\n",
    "warnings.filterwarnings('ignore')"
   ]
  },
  {
   "cell_type": "code",
   "execution_count": null,
   "id": "3422a8c2-4af5-4c89-8be7-a4613c1d7c58",
   "metadata": {},
   "outputs": [],
   "source": [
    "df = pd.read_csv(\"../Resources/combined_cleaned.csv\")\n",
    "print(df.shape)\n",
    "df.head()"
   ]
  },
  {
   "cell_type": "markdown",
   "id": "af27d40e-a4dc-4254-bc95-1fe0d4b4b923",
   "metadata": {},
   "source": [
    "### Initial Pre-processing"
   ]
  },
  {
   "cell_type": "code",
   "execution_count": null,
   "id": "a7dac903-a398-497b-8faa-aa3b6ee9abe1",
   "metadata": {},
   "outputs": [],
   "source": [
    "# Check value counts to see if any binning needs to occur"
   ]
  },
  {
   "cell_type": "code",
   "execution_count": null,
   "id": "298685a7-e84d-4807-8632-e4fa0bd3d173",
   "metadata": {},
   "outputs": [],
   "source": []
  },
  {
   "cell_type": "markdown",
   "id": "9bbb80f2-862c-4c0f-bb64-dc9f0f7d73a6",
   "metadata": {},
   "source": [
    "### Classification Function"
   ]
  },
  {
   "cell_type": "code",
   "execution_count": null,
   "id": "d06b6b5e-f5f3-46f9-97be-7ce0455816d1",
   "metadata": {},
   "outputs": [],
   "source": [
    "# Function for Classification\n",
    "def classModel(model, X_train, X_test, y_train, y_test):\n",
    "    \"\"\" \n",
    "    This function requires that the train-test split has already occurred and for a model to be initialized prior to the function being run.\n",
    "\n",
    "    If the problem is a multi-class problem, the ROC Curve will break and the function cannot be used.\n",
    "\n",
    "    Ex. `lr = LogisticRegression()`\n",
    "    \"\"\"\n",
    "    # Fit the model\n",
    "    model.fit(X_train, y_train)\n",
    "    \n",
    "    # Evaluate the model\n",
    "    train_preds = model.predict(X_train)\n",
    "    test_preds = model.predict(X_test)\n",
    "\n",
    "    train_proba = model.predict_proba(X_train)[:, 1]\n",
    "    test_proba = model.predict_proba(X_test)[:, 1]\n",
    "\n",
    "    # Generate metrics TRAIN\n",
    "    train_cf = confusion_matrix(y_train, train_preds)\n",
    "    train_cr = classification_report(y_train, train_preds)\n",
    "    train_auc = roc_auc_score(y_train, train_proba)\n",
    "    \n",
    "    train_results = f\"\"\"TRAIN METRICS\n",
    "    Confusion Matrix: \n",
    "    {train_cf}\n",
    "    \n",
    "    AUC: {train_auc}\n",
    "\n",
    "    Classification Report:\n",
    "    {train_cr}\n",
    "    \"\"\"\n",
    "    \n",
    "    print(train_results)\n",
    "\n",
    "    # Generate metrics TEST\n",
    "    test_cf = confusion_matrix(y_test, test_preds)\n",
    "    test_cr = classification_report(y_test, test_preds)\n",
    "    test_auc = roc_auc_score(y_test, test_proba)\n",
    "    \n",
    "    test_results = f\"\"\"TEST METRICS\n",
    "    Confusion Matrix: \n",
    "    {test_cf}\n",
    "    \n",
    "    AUC: {test_auc}\n",
    "\n",
    "    Classification Report:\n",
    "    {test_cr}\n",
    "    \"\"\"\n",
    "    \n",
    "    print(test_results)\n",
    "\n",
    "    # VISUALIZE TEST RESULTS\n",
    "    # Confusion Matrix\n",
    "    plt.figure(figsize=(4, 4))\n",
    "    sns.heatmap(test_cf, annot=True, fmt='d', cmap='Blues', cbar=False, \n",
    "                xticklabels=['Predicted Negative', 'Predicted Positive'], \n",
    "                yticklabels=['Actual Negative', 'Actual Positive'])\n",
    "    plt.title('Confusion Matrix')\n",
    "    plt.xlabel('Predicted Label')\n",
    "    plt.ylabel('True Label')\n",
    "    plt.show()\n",
    "\n",
    "    # ROC Curve\n",
    "    fpr, tpr, _ = roc_curve(y_test.values, test_proba)\n",
    "    \n",
    "    # Set figure size\n",
    "    plt.figure(figsize=(6, 6))\n",
    "    \n",
    "    # Plot the ROC curve\n",
    "    plt.plot(fpr, tpr, color='blue', lw=2, label=f'ROC curve (area = {test_auc:.3f})')\n",
    "    \n",
    "    # Plot the diagonal reference line\n",
    "    plt.plot([0, 1], [0, 1], color='gray', linestyle='--')\n",
    "    \n",
    "    # Titles and labels\n",
    "    plt.title('Receiver Operating Characteristic (ROC) Curve')\n",
    "    plt.xlabel('False Positive Rate')\n",
    "    plt.ylabel('True Positive Rate')\n",
    "    \n",
    "    # Add grid and legend\n",
    "    plt.grid(linestyle=\"--\", color=\"lightgrey\", alpha=0.75)\n",
    "    plt.legend(loc=\"lower right\")\n",
    "    \n",
    "    # Display the plot\n",
    "    plt.show()"
   ]
  },
  {
   "cell_type": "markdown",
   "id": "3ecc9f0e-fb3b-4b71-87c0-a87927b1ab5c",
   "metadata": {},
   "source": [
    "### One-Hot Encoding w/ Ratings"
   ]
  },
  {
   "cell_type": "code",
   "execution_count": null,
   "id": "0dd10c67-f4e0-432a-9e15-3946b1ead922",
   "metadata": {},
   "outputs": [],
   "source": []
  },
  {
   "cell_type": "code",
   "execution_count": null,
   "id": "b8443d9a-6c2d-4944-ae9e-6979e880c66f",
   "metadata": {},
   "outputs": [],
   "source": []
  },
  {
   "cell_type": "markdown",
   "id": "c4377f52-8a6d-4de1-b00b-9b204528f18d",
   "metadata": {},
   "source": [
    "### One-Hot Encoding w/o Ratings"
   ]
  },
  {
   "cell_type": "code",
   "execution_count": null,
   "id": "1adb1517-2168-4061-be5d-a84cfd1abb1f",
   "metadata": {},
   "outputs": [],
   "source": []
  },
  {
   "cell_type": "code",
   "execution_count": null,
   "id": "a9e31956-7645-4146-aa7e-8136f3f33adb",
   "metadata": {},
   "outputs": [],
   "source": []
  },
  {
   "cell_type": "markdown",
   "id": "397338cc-e792-41c6-a8e2-62af91c8dc89",
   "metadata": {},
   "source": [
    "### Label Encoding w/ Ratings"
   ]
  },
  {
   "cell_type": "code",
   "execution_count": null,
   "id": "835153ce-a3c1-458d-82ea-249f814efd0f",
   "metadata": {},
   "outputs": [],
   "source": []
  },
  {
   "cell_type": "code",
   "execution_count": null,
   "id": "08212327-f50c-4e5e-b9bb-f439b9d1eeff",
   "metadata": {},
   "outputs": [],
   "source": []
  },
  {
   "cell_type": "markdown",
   "id": "3900ef8e-b209-42d7-9756-409f0def8acd",
   "metadata": {},
   "source": [
    "### Label Encoding w/o Ratings"
   ]
  },
  {
   "cell_type": "code",
   "execution_count": null,
   "id": "8bfd1c96-e86b-4f1c-bc58-eaecbd588644",
   "metadata": {},
   "outputs": [],
   "source": []
  },
  {
   "cell_type": "code",
   "execution_count": null,
   "id": "6144981c-9095-4a21-ae6a-6880895e6e74",
   "metadata": {},
   "outputs": [],
   "source": []
  },
  {
   "cell_type": "markdown",
   "id": "450571e9-0500-49ca-a2c3-ba049484ac2a",
   "metadata": {},
   "source": [
    "### Analysis"
   ]
  },
  {
   "cell_type": "code",
   "execution_count": null,
   "id": "b30c278b-f7a8-4dad-9d98-e061a929fa2f",
   "metadata": {},
   "outputs": [],
   "source": []
  },
  {
   "cell_type": "code",
   "execution_count": null,
   "id": "65bb3a1d-6a6e-4459-b706-eac66198aebf",
   "metadata": {},
   "outputs": [],
   "source": []
  },
  {
   "cell_type": "code",
   "execution_count": null,
   "id": "56edb961-2017-4d9c-8b19-4c3cf7b33331",
   "metadata": {},
   "outputs": [],
   "source": []
  }
 ],
 "metadata": {
  "kernelspec": {
   "display_name": "Python 3 (ipykernel)",
   "language": "python",
   "name": "python3"
  },
  "language_info": {
   "codemirror_mode": {
    "name": "ipython",
    "version": 3
   },
   "file_extension": ".py",
   "mimetype": "text/x-python",
   "name": "python",
   "nbconvert_exporter": "python",
   "pygments_lexer": "ipython3",
   "version": "3.10.13"
  }
 },
 "nbformat": 4,
 "nbformat_minor": 5
}
