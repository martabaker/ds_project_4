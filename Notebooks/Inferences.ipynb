{
 "cells": [
  {
   "cell_type": "code",
   "execution_count": 1,
   "id": "943789ec-c207-47a4-8b8d-eb5c6483f3ed",
   "metadata": {},
   "outputs": [],
   "source": [
    "# Import Dependencies\n",
    "import pandas as pd\n",
    "import pickle\n",
    "import numpy as np"
   ]
  },
  {
   "cell_type": "code",
   "execution_count": 2,
   "id": "3db0cc28-5eab-4a1a-b6a4-73fece7c8a80",
   "metadata": {},
   "outputs": [],
   "source": [
    "def predictions(gender, customer_type, age, type_of_travel, travel_class, flight_distance, inflight_wifi_service, departure_arrival_time_convenient,\n",
    "               ease_of_online_booking, gate_location, food_and_drink, online_boarding, seat_comfort, inflight_entertainment, on_board_service,\n",
    "               leg_room_service, baggage_handling, checkin_service, inflight_service, cleanliness, departure_delay_in_minutes, arrival_delay_in_minutes):\n",
    "\n",
    "    df = pd.DataFrame()\n",
    "    df[\"gender\"] = [gender]\n",
    "    df[\"customer_type\"] = [customer_type]\n",
    "    df[\"age\"] = [age]\n",
    "    df[\"type_of_travel\"] = [type_of_travel]\n",
    "    df[\"travel_class\"] = [travel_class]\n",
    "    df[\"flight_distance\"] = [flight_distance]\n",
    "    df[\"inflight_wifi_service\"] = [inflight_wifi_service]\n",
    "    df[\"departure_arrival_time_convenient\"] = [departure_arrival_time_convenient]\n",
    "    df[\"ease_of_online_booking\"] = [ease_of_online_booking]\n",
    "    df[\"gate_location\"] = [gate_location]\n",
    "    df[\"food_and_drink\"] = [food_and_drink]\n",
    "    df[\"online_boarding\"] = [online_boarding]\n",
    "    df[\"seat_comfort\"] = [seat_comfort]\n",
    "    df[\"inflight_entertainment\"] = [inflight_entertainment]\n",
    "    df[\"on_board_service\"] = [on_board_service]\n",
    "    df[\"leg_room_service\"] = [leg_room_service]\n",
    "    df[\"baggage_handling\"] = [baggage_handling]\n",
    "    df[\"checkin_service\"] = [checkin_service]\n",
    "    df[\"inflight_service\"] = [inflight_service]\n",
    "    df[\"cleanliness\"] = [cleanliness]\n",
    "    df[\"departure_delay_in_minutes\"] = [departure_delay_in_minutes]\n",
    "    df[\"arrival_delay_in_minutes\"] = [arrival_delay_in_minutes]\n",
    "    \n",
    "    # model\n",
    "    model = pickle.load(open(\"model_pipeline.h5\", 'rb'))\n",
    "    # rb = read binary for the h5 file\n",
    "    \n",
    "    # columns in order\n",
    "    df = df.loc[:, ['gender', 'customer_type', 'age', 'type_of_travel',\n",
    "       'travel_class', 'flight_distance', 'inflight_wifi_service',\n",
    "       'departure_arrival_time_convenient', 'ease_of_online_booking',\n",
    "       'gate_location', 'food_and_drink', 'online_boarding', 'seat_comfort',\n",
    "       'inflight_entertainment', 'on_board_service', 'leg_room_service',\n",
    "       'baggage_handling', 'checkin_service', 'inflight_service',\n",
    "       'cleanliness', 'departure_delay_in_minutes', 'arrival_delay_in_minutes']]\n",
    "    \n",
    "    preds = model.predict_proba(df)\n",
    "    return(preds[0][1])"
   ]
  },
  {
   "cell_type": "code",
   "execution_count": 3,
   "id": "50d8b225-3558-43ed-b635-c56ed6967ddc",
   "metadata": {},
   "outputs": [
    {
     "name": "stdout",
     "output_type": "stream",
     "text": [
      "0.9910800869624846\n",
      "Chance this customer will be fully satisfied with this flight: 99.108%\n"
     ]
    }
   ],
   "source": [
    "# Test Run\n",
    "\n",
    "gender = 1   # 0=\"Male\", 1=\"Female\"\n",
    "customer_type = 1   # 0=\"disloyal Customer\", 1=\"Loyal Customer\"\n",
    "age = 32\n",
    "type_of_travel = 1   # 0=personal, 1=business\n",
    "travel_class = \"Eco Plus\"   # [\"Eco\", \"Business\", \"Eco Plus\"]\n",
    "flight_distance = \"500-599\"   # [\"0-99\", \"100-199\", \"200-299\", \"300-399\", \"400-499\", \n",
    "                            # \"500-599\", \"600-799\", \"800-999\", \"1000-1499\", \"1500-1999\", \n",
    "                            # \"2000-2999\", \"3000-4999\"]\n",
    "inflight_wifi_service = 4   # 0-5 scale\n",
    "departure_arrival_time_convenient = 3   # 0-5 scale\n",
    "ease_of_online_booking = 4   # 0-5 scale\n",
    "gate_location = 5   # 0-5 scale\n",
    "food_and_drink = 4   # 0-5 scale\n",
    "online_boarding = 5   # 0-5 scale\n",
    "seat_comfort = 3   # 0-5 scale\n",
    "inflight_entertainment = 5   # 0-5 scale\n",
    "on_board_service = 4   # 0-5 scale\n",
    "leg_room_service = 3   # 0-5 scale\n",
    "baggage_handling = 5   # 0-5 scale\n",
    "checkin_service = 5   # 0-5 scale\n",
    "inflight_service = 4   # 0-5 scale\n",
    "cleanliness = 4   # 0-5 scale\n",
    "departure_delay_in_minutes = \"30-59\"   # [\"0-29\", \"30-59\", \"60-119\", \"120-179\", \"180-239\", \n",
    "                            # \"240-299\", \"300-359\", \"360-419\", \"420-479\", \"480-1999\"]\n",
    "arrival_delay_in_minutes = \"0-29\"   # [\"0-29\", \"30-59\", \"60-119\", \"120-179\", \"180-239\", \n",
    "                            # \"240-299\", \"300-359\", \"360-419\", \"420-479\", \"480-1999\"]\n",
    "\n",
    "satisfied_pred = predictions(gender, customer_type, age, type_of_travel, travel_class, flight_distance, inflight_wifi_service, departure_arrival_time_convenient,\n",
    "               ease_of_online_booking, gate_location, food_and_drink, online_boarding, seat_comfort, inflight_entertainment, on_board_service,\n",
    "               leg_room_service, baggage_handling, checkin_service, inflight_service, cleanliness, departure_delay_in_minutes, arrival_delay_in_minutes)\n",
    "\n",
    "percentage = satisfied_pred * 100\n",
    "print(satisfied_pred)\n",
    "print(f\"Chance this customer will be fully satisfied with this flight: {percentage:.3f}%\")"
   ]
  },
  {
   "cell_type": "code",
   "execution_count": null,
   "id": "563661da-dc1a-4e25-a938-14d0d79ed413",
   "metadata": {},
   "outputs": [],
   "source": []
  }
 ],
 "metadata": {
  "kernelspec": {
   "display_name": "Python 3 (ipykernel)",
   "language": "python",
   "name": "python3"
  },
  "language_info": {
   "codemirror_mode": {
    "name": "ipython",
    "version": 3
   },
   "file_extension": ".py",
   "mimetype": "text/x-python",
   "name": "python",
   "nbconvert_exporter": "python",
   "pygments_lexer": "ipython3",
   "version": "3.10.13"
  }
 },
 "nbformat": 4,
 "nbformat_minor": 5
}
